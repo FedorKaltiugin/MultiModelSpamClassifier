{
  "nbformat": 4,
  "nbformat_minor": 0,
  "metadata": {
    "colab": {
      "provenance": [],
      "gpuType": "T4"
    },
    "kernelspec": {
      "name": "python3",
      "display_name": "Python 3"
    },
    "language_info": {
      "name": "python"
    },
    "accelerator": "GPU"
  },
  "cells": [
    {
      "cell_type": "code",
      "execution_count": null,
      "metadata": {
        "id": "ARUnmALSD8jP"
      },
      "outputs": [],
      "source": [
        "import pandas as pd\n",
        "import numpy as np\n",
        "from sklearn.model_selection import train_test_split\n",
        "from sklearn.feature_extraction.text import TfidfVectorizer\n",
        "from sklearn.naive_bayes import MultinomialNB\n",
        "from sklearn.metrics import accuracy_score\n",
        "import warnings\n",
        "warnings.filterwarnings(\"ignore\")\n",
        "\n",
        "import nltk\n",
        "import string\n",
        "from nltk.corpus import stopwords\n",
        "stop_words = set(stopwords.words('english'))\n",
        "punctuation = set(string.punctuation)\n",
        "from nltk.tokenize import TreebankWordTokenizer\n",
        "\n",
        "import fasttext\n",
        "from sklearn.neighbors import KNeighborsClassifier\n",
        "\n",
        "from sentence_transformers import SentenceTransformer\n",
        "from sklearn.neural_network import MLPClassifier\n",
        "from datasets import Dataset\n",
        "from transformers import (\n",
        "    AutoTokenizer, AutoModelForSequenceClassification,\n",
        "    Trainer, TrainingArguments, DataCollatorWithPadding\n",
        ")\n",
        "import evaluate\n",
        "from datasets import Dataset, DatasetDict"
      ]
    },
    {
      "cell_type": "code",
      "source": [
        "spamhamdata = pd.read_csv(\"spamhamdata.xls\", sep='\\t', header=None, names=['label', 'text'])"
      ],
      "metadata": {
        "id": "uKi0V6wnEGnb"
      },
      "execution_count": null,
      "outputs": []
    },
    {
      "cell_type": "code",
      "source": [
        "spamhamdata.head()"
      ],
      "metadata": {
        "colab": {
          "base_uri": "https://localhost:8080/",
          "height": 206
        },
        "id": "ocTf6cASEGk7",
        "outputId": "0c4aede1-91c4-4ce4-8379-8b09da60a0bc"
      },
      "execution_count": null,
      "outputs": []
    },
    {
      "cell_type": "code",
      "source": [
        "spamhamdata['label'] = spamhamdata['label'].map({'ham': 0, 'spam': 1})"
      ],
      "metadata": {
        "id": "lt-xk0oiEGij"
      },
      "execution_count": null,
      "outputs": []
    },
    {
      "cell_type": "code",
      "source": [
        "#TF-IDF + NB (\u043d\u0430\u0438\u0432\u043d\u044b\u0439 \u0431\u0430\u0435\u0441)"
      ],
      "metadata": {
        "id": "rq4Fj0a3EGgb"
      },
      "execution_count": null,
      "outputs": []
    },
    {
      "cell_type": "code",
      "source": [
        "dataNB = spamhamdata.copy()"
      ],
      "metadata": {
        "id": "tbxtRLn0EGeK"
      },
      "execution_count": null,
      "outputs": []
    },
    {
      "cell_type": "code",
      "source": [
        "tokenizer = TreebankWordTokenizer()\n",
        "\n",
        "def preprocess(text):\n",
        "    text = str(text).lower()\n",
        "    words = tokenizer.tokenize(text)\n",
        "    filtered_words = [word for word in words if word not in stop_words and word not in punctuation]\n",
        "    return \" \".join(filtered_words)"
      ],
      "metadata": {
        "id": "wNTjrsaWEMaM"
      },
      "execution_count": null,
      "outputs": []
    },
    {
      "cell_type": "code",
      "source": [
        "dataNB['text_clean'] = dataNB['text'].apply(preprocess)"
      ],
      "metadata": {
        "id": "9EiX9HLfEMX3"
      },
      "execution_count": null,
      "outputs": []
    },
    {
      "cell_type": "code",
      "source": [
        "dataNB['text_clean'][42]"
      ],
      "metadata": {
        "colab": {
          "base_uri": "https://localhost:8080/",
          "height": 54
        },
        "id": "kXJj9x7CEMV2",
        "outputId": "e4a970da-1a30-4df4-f9bd-2cb26a443567"
      },
      "execution_count": null,
      "outputs": []
    },
    {
      "cell_type": "code",
      "source": [
        "X_train, X_test, y_train, y_test = train_test_split(dataNB['text_clean'], dataNB['label'], test_size=0.2, random_state=42)"
      ],
      "metadata": {
        "id": "PJQ81FMxEMTs"
      },
      "execution_count": null,
      "outputs": []
    },
    {
      "cell_type": "code",
      "source": [
        "tfidf_vectorizer = TfidfVectorizer()\n",
        "X_train_tfidf = tfidf_vectorizer.fit_transform(X_train)\n",
        "X_test_tfidf = tfidf_vectorizer.transform(X_test)\n",
        "\n",
        "classifier = MultinomialNB()\n",
        "classifier.fit(X_train_tfidf, y_train)"
      ],
      "metadata": {
        "colab": {
          "base_uri": "https://localhost:8080/",
          "height": 80
        },
        "id": "HPpYHr4qEMRT",
        "outputId": "ad8f018c-f4f6-46b1-c17b-81ef6c003f3b"
      },
      "execution_count": null,
      "outputs": []
    },
    {
      "cell_type": "code",
      "source": [
        "y_pred = classifier.predict(X_test_tfidf)"
      ],
      "metadata": {
        "id": "VVYIaHJzEMPT"
      },
      "execution_count": null,
      "outputs": []
    },
    {
      "cell_type": "code",
      "source": [
        "accuracy = accuracy_score(y_test, y_pred)\n",
        "print(f'\u0422\u043e\u0447\u043d\u043e\u0441\u0442\u044c NB: {accuracy}')"
      ],
      "metadata": {
        "colab": {
          "base_uri": "https://localhost:8080/"
        },
        "id": "NX36vmJMEMMc",
        "outputId": "32727069-d4fb-4cf2-ddb7-467d0d113dde"
      },
      "execution_count": null,
      "outputs": []
    },
    {
      "cell_type": "code",
      "source": [
        "# FastText + KNN"
      ],
      "metadata": {
        "id": "N53ubeJOEMBr"
      },
      "execution_count": null,
      "outputs": []
    },
    {
      "cell_type": "code",
      "source": [
        "dataKNN = spamhamdata.copy()"
      ],
      "metadata": {
        "id": "NfaBBBJOEGcG"
      },
      "execution_count": null,
      "outputs": []
    },
    {
      "cell_type": "code",
      "source": [
        "dataKNN['text_clean'] = dataKNN['text'].apply(preprocess)"
      ],
      "metadata": {
        "id": "SsMx95dyEGZz"
      },
      "execution_count": null,
      "outputs": []
    },
    {
      "cell_type": "code",
      "source": [
        "with open(\"ft_data.txt\", \"w\", encoding=\"utf-8\") as f:\n",
        "    for label, text in zip(dataKNN['label'], dataKNN['text_clean']):\n",
        "        f.write(f\"__label__{label} {text}\\n\")"
      ],
      "metadata": {
        "id": "ZvCcCxyqEGXk"
      },
      "execution_count": null,
      "outputs": []
    },
    {
      "cell_type": "code",
      "source": [
        "model = fasttext.train_supervised(input=\"ft_data.txt\", lr=0.5, epoch=25, wordNgrams=2, bucket=200000, dim=50, loss='ova')"
      ],
      "metadata": {
        "id": "kmcC9wUgEGVj"
      },
      "execution_count": null,
      "outputs": []
    },
    {
      "cell_type": "code",
      "source": [
        "X = np.array([model.get_sentence_vector(text) for text in dataKNN['text_clean']])\n",
        "y = dataKNN['label'].values"
      ],
      "metadata": {
        "id": "O6qwf-FCEGTT"
      },
      "execution_count": null,
      "outputs": []
    },
    {
      "cell_type": "code",
      "source": [
        "X_train, X_test, y_train, y_test = train_test_split(X, y, test_size=0.2, random_state=42)"
      ],
      "metadata": {
        "id": "3cc89DMCEGOj"
      },
      "execution_count": null,
      "outputs": []
    },
    {
      "cell_type": "code",
      "source": [
        "knn_clf = KNeighborsClassifier()\n",
        "knn_clf.fit(X_train, y_train)\n",
        "knn_clf_pred_res = knn_clf.predict(X_test)\n",
        "knn_clf_accuracy = accuracy_score(y_test, knn_clf_pred_res)\n",
        "\n",
        "print(f'\u0422\u043e\u0447\u043d\u043e\u0441\u0442\u044c KNN: {knn_clf_accuracy}')"
      ],
      "metadata": {
        "colab": {
          "base_uri": "https://localhost:8080/"
        },
        "id": "qgXTlvfzEZ7n",
        "outputId": "70d916f8-ca48-4265-8dce-0eb44e1503bf"
      },
      "execution_count": null,
      "outputs": []
    },
    {
      "cell_type": "code",
      "source": [
        "# BERT + FNN"
      ],
      "metadata": {
        "id": "MO2Lq1EQEZ5N"
      },
      "execution_count": null,
      "outputs": []
    },
    {
      "cell_type": "code",
      "source": [
        "dataFNN = spamhamdata.copy()"
      ],
      "metadata": {
        "id": "wdq6V3TVEZ3F"
      },
      "execution_count": null,
      "outputs": []
    },
    {
      "cell_type": "code",
      "source": [
        "dataFNN"
      ],
      "metadata": {
        "colab": {
          "base_uri": "https://localhost:8080/",
          "height": 423
        },
        "id": "ou4NMoggEZ0x",
        "outputId": "0576c3e3-1f6a-4cbf-ae6a-da3257d1cdde"
      },
      "execution_count": null,
      "outputs": []
    },
    {
      "cell_type": "code",
      "source": [
        "dataset = Dataset.from_pandas(dataFNN)\n",
        "\n",
        "train_df, test_df = train_test_split(dataFNN, test_size=0.2, stratify=dataFNN[\"label\"], random_state=42)\n",
        "\n",
        "dataset = DatasetDict({\n",
        "    \"train\": Dataset.from_pandas(train_df),\n",
        "    \"test\": Dataset.from_pandas(test_df)\n",
        "})\n",
        "\n",
        "tokenizer = AutoTokenizer.from_pretrained(\"bert-base-uncased\")\n",
        "\n",
        "def tokenize_function(example):\n",
        "    return tokenizer(example[\"text\"], truncation=True)\n",
        "\n",
        "tokenized_dataset = dataset.map(tokenize_function, batched=True)\n",
        "data_collator = DataCollatorWithPadding(tokenizer=tokenizer)"
      ],
      "metadata": {
        "colab": {
          "base_uri": "https://localhost:8080/",
          "height": 81,
          "referenced_widgets": [
            "6fff5b20579f45a8aa43bb8217fd389f",
            "12a0831990d6477a909b7394e1a95044",
            "340b27c9421349808ec02c67ddcbb8de",
            "bc068ba79ff14e3f90000304845398b9",
            "36c327c1144f46d5a54771627ebe08a9",
            "628379714eaf474480c0896775df8c4d",
            "95a23c8b646c4a6f94d2c6e0ede536d1",
            "694339ae8f404db19c7b7be98a9b68b1",
            "856fd393e879482e910f967be34904d6",
            "32d849523a2946258c92dff631fe31ff",
            "a2cc125eaa2c4b9e8395a5d5da26a155",
            "943ad1452a554dcfab7262b558a019f0",
            "64ccff6d0dc64e1bbfc98d40b3ef1af4",
            "1208329bef2d4d08bb76e9b39ce575bd",
            "64227676fc4d4308b14ca287ac3cbe03",
            "e1f0862afe1f4a529dcc65e7a63df950",
            "c2e8b740450845e295166753698c3230",
            "81dc3928bc9043bbaf14485c0e69cdd6",
            "ac620e0d679d4add9bca624e9ad624ca",
            "67dd91cfa29345c18ae7cf124feafd70",
            "e820e5b353a5433a9d0fa3d05790d1e4",
            "d4fd87a772d743a9bf62f0a008656fe7"
          ]
        },
        "id": "nH9CknF3GFod",
        "outputId": "51b342ee-334f-4602-fe2f-e9f7f89ebd95"
      },
      "execution_count": null,
      "outputs": []
    },
    {
      "cell_type": "code",
      "source": [
        "model = AutoModelForSequenceClassification.from_pretrained(\"bert-base-uncased\", num_labels=2)\n",
        "\n",
        "accuracy = evaluate.load(\"accuracy\")\n",
        "\n",
        "def compute_metrics(eval_pred):\n",
        "    logits, labels = eval_pred\n",
        "    preds = np.argmax(logits, axis=-1)\n",
        "    return accuracy.compute(predictions=preds, references=labels)"
      ],
      "metadata": {
        "colab": {
          "base_uri": "https://localhost:8080/"
        },
        "id": "XRzgXTTpGFju",
        "outputId": "86189375-0a05-44e9-b11d-5b4f79f5ae83"
      },
      "execution_count": null,
      "outputs": []
    },
    {
      "cell_type": "code",
      "source": [
        "training_args = TrainingArguments(\n",
        "    output_dir=\"./bert-finetune\",\n",
        "    learning_rate=2e-5,\n",
        "    per_device_train_batch_size=16,\n",
        "    per_device_eval_batch_size=16,\n",
        "    num_train_epochs=3,\n",
        "    weight_decay=0.01,\n",
        "    logging_steps=10,\n",
        "    fp16=True,\n",
        "    report_to=\"none\"\n",
        ")"
      ],
      "metadata": {
        "id": "FzP-2BsAGFeO"
      },
      "execution_count": null,
      "outputs": []
    },
    {
      "cell_type": "code",
      "source": [
        "trainer = Trainer(\n",
        "    model=model,\n",
        "    args=training_args,\n",
        "    train_dataset=tokenized_dataset[\"train\"],\n",
        "    eval_dataset=tokenized_dataset[\"test\"],\n",
        "    tokenizer=tokenizer,\n",
        "    data_collator=data_collator,\n",
        "    compute_metrics=compute_metrics\n",
        ")\n",
        "\n",
        "trainer.train()"
      ],
      "metadata": {
        "colab": {
          "base_uri": "https://localhost:8080/",
          "height": 1000
        },
        "id": "Efqx8XGPEGFc",
        "outputId": "bd12e750-42aa-4f1b-f2e9-1df01d548eb9"
      },
      "execution_count": null,
      "outputs": []
    },
    {
      "cell_type": "code",
      "source": [
        "results = trainer.evaluate()\n",
        "print(f\"\u0422\u043e\u0447\u043d\u043e\u0441\u0442\u044c BERT: {results['eval_accuracy']}\")"
      ],
      "metadata": {
        "colab": {
          "base_uri": "https://localhost:8080/",
          "height": 55
        },
        "id": "LLIQRUW4HvpF",
        "outputId": "c0498638-be00-48c0-95e4-25087496af05"
      },
      "execution_count": null,
      "outputs": []
    }
  ]
}